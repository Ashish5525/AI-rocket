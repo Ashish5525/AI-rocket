{
  "cells": [
    {
      "cell_type": "markdown",
      "metadata": {
        "id": "view-in-github",
        "colab_type": "text"
      },
      "source": [
        "<a href=\"https://colab.research.google.com/github/Ashish5525/AI-rocket/blob/main/Landin_Rocket_AI.ipynb\" target=\"_parent\"><img src=\"https://colab.research.google.com/assets/colab-badge.svg\" alt=\"Open In Colab\"/></a>"
      ]
    },
    {
      "cell_type": "markdown",
      "metadata": {
        "id": "LbZcI9ZXHl3a"
      },
      "source": [
        "# Deep Q-Learning for Lunar Landing"
      ]
    },
    {
      "cell_type": "markdown",
      "metadata": {
        "id": "E8yPRjteXgPb"
      },
      "source": [
        "## Part 0 - Installing the required packages and importing the libraries"
      ]
    },
    {
      "cell_type": "markdown",
      "metadata": {
        "id": "slEm5teGWjWU"
      },
      "source": [
        "### Installing Gymnasium"
      ]
    },
    {
      "cell_type": "code",
      "execution_count": 1,
      "metadata": {
        "id": "dbnq3XpoKa_7",
        "colab": {
          "base_uri": "https://localhost:8080/"
        },
        "outputId": "26a49ccf-22ef-42da-c696-65bdbff98cbd"
      },
      "outputs": [
        {
          "output_type": "stream",
          "name": "stdout",
          "text": [
            "Collecting gymnasium\n",
            "  Downloading gymnasium-0.29.1-py3-none-any.whl (953 kB)\n",
            "\u001b[?25l     \u001b[90m━━━━━━━━━━━━━━━━━━━━━━━━━━━━━━━━━━━━━━━━\u001b[0m \u001b[32m0.0/953.9 kB\u001b[0m \u001b[31m?\u001b[0m eta \u001b[36m-:--:--\u001b[0m\r\u001b[2K     \u001b[91m━━━━━━━━━\u001b[0m\u001b[90m╺\u001b[0m\u001b[90m━━━━━━━━━━━━━━━━━━━━━━━━━━━━━━\u001b[0m \u001b[32m225.3/953.9 kB\u001b[0m \u001b[31m6.5 MB/s\u001b[0m eta \u001b[36m0:00:01\u001b[0m\r\u001b[2K     \u001b[91m━━━━━━━━━━━━━━━━━━━━━━━━━━━━━━━━\u001b[0m\u001b[90m╺\u001b[0m\u001b[90m━━━━━━━\u001b[0m \u001b[32m768.0/953.9 kB\u001b[0m \u001b[31m10.8 MB/s\u001b[0m eta \u001b[36m0:00:01\u001b[0m\r\u001b[2K     \u001b[90m━━━━━━━━━━━━━━━━━━━━━━━━━━━━━━━━━━━━━━━━\u001b[0m \u001b[32m953.9/953.9 kB\u001b[0m \u001b[31m9.3 MB/s\u001b[0m eta \u001b[36m0:00:00\u001b[0m\n",
            "\u001b[?25hRequirement already satisfied: numpy>=1.21.0 in /usr/local/lib/python3.10/dist-packages (from gymnasium) (1.25.2)\n",
            "Requirement already satisfied: cloudpickle>=1.2.0 in /usr/local/lib/python3.10/dist-packages (from gymnasium) (2.2.1)\n",
            "Requirement already satisfied: typing-extensions>=4.3.0 in /usr/local/lib/python3.10/dist-packages (from gymnasium) (4.11.0)\n",
            "Collecting farama-notifications>=0.0.1 (from gymnasium)\n",
            "  Downloading Farama_Notifications-0.0.4-py3-none-any.whl (2.5 kB)\n",
            "Installing collected packages: farama-notifications, gymnasium\n",
            "Successfully installed farama-notifications-0.0.4 gymnasium-0.29.1\n",
            "Requirement already satisfied: gymnasium[accept-rom-license,atari] in /usr/local/lib/python3.10/dist-packages (0.29.1)\n",
            "Requirement already satisfied: numpy>=1.21.0 in /usr/local/lib/python3.10/dist-packages (from gymnasium[accept-rom-license,atari]) (1.25.2)\n",
            "Requirement already satisfied: cloudpickle>=1.2.0 in /usr/local/lib/python3.10/dist-packages (from gymnasium[accept-rom-license,atari]) (2.2.1)\n",
            "Requirement already satisfied: typing-extensions>=4.3.0 in /usr/local/lib/python3.10/dist-packages (from gymnasium[accept-rom-license,atari]) (4.11.0)\n",
            "Requirement already satisfied: farama-notifications>=0.0.1 in /usr/local/lib/python3.10/dist-packages (from gymnasium[accept-rom-license,atari]) (0.0.4)\n",
            "Collecting shimmy[atari]<1.0,>=0.1.0 (from gymnasium[accept-rom-license,atari])\n",
            "  Downloading Shimmy-0.2.1-py3-none-any.whl (25 kB)\n",
            "Collecting autorom[accept-rom-license]~=0.4.2 (from gymnasium[accept-rom-license,atari])\n",
            "  Downloading AutoROM-0.4.2-py3-none-any.whl (16 kB)\n",
            "Requirement already satisfied: click in /usr/local/lib/python3.10/dist-packages (from autorom[accept-rom-license]~=0.4.2->gymnasium[accept-rom-license,atari]) (8.1.7)\n",
            "Requirement already satisfied: requests in /usr/local/lib/python3.10/dist-packages (from autorom[accept-rom-license]~=0.4.2->gymnasium[accept-rom-license,atari]) (2.31.0)\n",
            "Requirement already satisfied: tqdm in /usr/local/lib/python3.10/dist-packages (from autorom[accept-rom-license]~=0.4.2->gymnasium[accept-rom-license,atari]) (4.66.4)\n",
            "Collecting AutoROM.accept-rom-license (from autorom[accept-rom-license]~=0.4.2->gymnasium[accept-rom-license,atari])\n",
            "  Downloading AutoROM.accept-rom-license-0.6.1.tar.gz (434 kB)\n",
            "\u001b[2K     \u001b[90m━━━━━━━━━━━━━━━━━━━━━━━━━━━━━━━━━━━━━━━━\u001b[0m \u001b[32m434.7/434.7 kB\u001b[0m \u001b[31m8.6 MB/s\u001b[0m eta \u001b[36m0:00:00\u001b[0m\n",
            "\u001b[?25h  Installing build dependencies ... \u001b[?25l\u001b[?25hdone\n",
            "  Getting requirements to build wheel ... \u001b[?25l\u001b[?25hdone\n",
            "  Preparing metadata (pyproject.toml) ... \u001b[?25l\u001b[?25hdone\n",
            "Collecting ale-py~=0.8.1 (from shimmy[atari]<1.0,>=0.1.0->gymnasium[accept-rom-license,atari])\n",
            "  Downloading ale_py-0.8.1-cp310-cp310-manylinux_2_17_x86_64.manylinux2014_x86_64.whl (1.7 MB)\n",
            "\u001b[2K     \u001b[90m━━━━━━━━━━━━━━━━━━━━━━━━━━━━━━━━━━━━━━━━\u001b[0m \u001b[32m1.7/1.7 MB\u001b[0m \u001b[31m19.0 MB/s\u001b[0m eta \u001b[36m0:00:00\u001b[0m\n",
            "\u001b[?25hRequirement already satisfied: importlib-resources in /usr/local/lib/python3.10/dist-packages (from ale-py~=0.8.1->shimmy[atari]<1.0,>=0.1.0->gymnasium[accept-rom-license,atari]) (6.4.0)\n",
            "Requirement already satisfied: charset-normalizer<4,>=2 in /usr/local/lib/python3.10/dist-packages (from requests->autorom[accept-rom-license]~=0.4.2->gymnasium[accept-rom-license,atari]) (3.3.2)\n",
            "Requirement already satisfied: idna<4,>=2.5 in /usr/local/lib/python3.10/dist-packages (from requests->autorom[accept-rom-license]~=0.4.2->gymnasium[accept-rom-license,atari]) (3.7)\n",
            "Requirement already satisfied: urllib3<3,>=1.21.1 in /usr/local/lib/python3.10/dist-packages (from requests->autorom[accept-rom-license]~=0.4.2->gymnasium[accept-rom-license,atari]) (2.0.7)\n",
            "Requirement already satisfied: certifi>=2017.4.17 in /usr/local/lib/python3.10/dist-packages (from requests->autorom[accept-rom-license]~=0.4.2->gymnasium[accept-rom-license,atari]) (2024.2.2)\n",
            "Building wheels for collected packages: AutoROM.accept-rom-license\n",
            "  Building wheel for AutoROM.accept-rom-license (pyproject.toml) ... \u001b[?25l\u001b[?25hdone\n",
            "  Created wheel for AutoROM.accept-rom-license: filename=AutoROM.accept_rom_license-0.6.1-py3-none-any.whl size=446659 sha256=1186b838d28b086cfb1070ea473d5793a23486e259eb1958c1d3f2073c88d601\n",
            "  Stored in directory: /root/.cache/pip/wheels/6b/1b/ef/a43ff1a2f1736d5711faa1ba4c1f61be1131b8899e6a057811\n",
            "Successfully built AutoROM.accept-rom-license\n",
            "Installing collected packages: ale-py, shimmy, AutoROM.accept-rom-license, autorom\n",
            "Successfully installed AutoROM.accept-rom-license-0.6.1 ale-py-0.8.1 autorom-0.4.2 shimmy-0.2.1\n",
            "Reading package lists... Done\n",
            "Building dependency tree... Done\n",
            "Reading state information... Done\n",
            "The following additional packages will be installed:\n",
            "  swig4.0\n",
            "Suggested packages:\n",
            "  swig-doc swig-examples swig4.0-examples swig4.0-doc\n",
            "The following NEW packages will be installed:\n",
            "  swig swig4.0\n",
            "0 upgraded, 2 newly installed, 0 to remove and 45 not upgraded.\n",
            "Need to get 1,116 kB of archives.\n",
            "After this operation, 5,542 kB of additional disk space will be used.\n",
            "Get:1 http://archive.ubuntu.com/ubuntu jammy/universe amd64 swig4.0 amd64 4.0.2-1ubuntu1 [1,110 kB]\n",
            "Get:2 http://archive.ubuntu.com/ubuntu jammy/universe amd64 swig all 4.0.2-1ubuntu1 [5,632 B]\n",
            "Fetched 1,116 kB in 0s (8,968 kB/s)\n",
            "Selecting previously unselected package swig4.0.\n",
            "(Reading database ... 121918 files and directories currently installed.)\n",
            "Preparing to unpack .../swig4.0_4.0.2-1ubuntu1_amd64.deb ...\n",
            "Unpacking swig4.0 (4.0.2-1ubuntu1) ...\n",
            "Selecting previously unselected package swig.\n",
            "Preparing to unpack .../swig_4.0.2-1ubuntu1_all.deb ...\n",
            "Unpacking swig (4.0.2-1ubuntu1) ...\n",
            "Setting up swig4.0 (4.0.2-1ubuntu1) ...\n",
            "Setting up swig (4.0.2-1ubuntu1) ...\n",
            "Processing triggers for man-db (2.10.2-1) ...\n",
            "Requirement already satisfied: gymnasium[box2d] in /usr/local/lib/python3.10/dist-packages (0.29.1)\n",
            "Requirement already satisfied: numpy>=1.21.0 in /usr/local/lib/python3.10/dist-packages (from gymnasium[box2d]) (1.25.2)\n",
            "Requirement already satisfied: cloudpickle>=1.2.0 in /usr/local/lib/python3.10/dist-packages (from gymnasium[box2d]) (2.2.1)\n",
            "Requirement already satisfied: typing-extensions>=4.3.0 in /usr/local/lib/python3.10/dist-packages (from gymnasium[box2d]) (4.11.0)\n",
            "Requirement already satisfied: farama-notifications>=0.0.1 in /usr/local/lib/python3.10/dist-packages (from gymnasium[box2d]) (0.0.4)\n",
            "Collecting box2d-py==2.3.5 (from gymnasium[box2d])\n",
            "  Downloading box2d-py-2.3.5.tar.gz (374 kB)\n",
            "\u001b[2K     \u001b[90m━━━━━━━━━━━━━━━━━━━━━━━━━━━━━━━━━━━━━━━━\u001b[0m \u001b[32m374.4/374.4 kB\u001b[0m \u001b[31m5.9 MB/s\u001b[0m eta \u001b[36m0:00:00\u001b[0m\n",
            "\u001b[?25h  Preparing metadata (setup.py) ... \u001b[?25l\u001b[?25hdone\n",
            "Requirement already satisfied: pygame>=2.1.3 in /usr/local/lib/python3.10/dist-packages (from gymnasium[box2d]) (2.5.2)\n",
            "Collecting swig==4.* (from gymnasium[box2d])\n",
            "  Downloading swig-4.2.1-py2.py3-none-manylinux_2_5_x86_64.manylinux1_x86_64.whl (1.9 MB)\n",
            "\u001b[2K     \u001b[90m━━━━━━━━━━━━━━━━━━━━━━━━━━━━━━━━━━━━━━━━\u001b[0m \u001b[32m1.9/1.9 MB\u001b[0m \u001b[31m19.1 MB/s\u001b[0m eta \u001b[36m0:00:00\u001b[0m\n",
            "\u001b[?25hBuilding wheels for collected packages: box2d-py\n",
            "  Building wheel for box2d-py (setup.py) ... \u001b[?25l\u001b[?25hdone\n",
            "  Created wheel for box2d-py: filename=box2d_py-2.3.5-cp310-cp310-linux_x86_64.whl size=2349116 sha256=98fcd87c2bda16bafdc3c49afc7dc6a16ec8411ac3092d9a2576febfaf008e59\n",
            "  Stored in directory: /root/.cache/pip/wheels/db/8f/6a/eaaadf056fba10a98d986f6dce954e6201ba3126926fc5ad9e\n",
            "Successfully built box2d-py\n",
            "Installing collected packages: swig, box2d-py\n",
            "Successfully installed box2d-py-2.3.5 swig-4.2.1\n"
          ]
        }
      ],
      "source": [
        "!pip install gymnasium\n",
        "!pip install \"gymnasium[atari, accept-rom-license]\"\n",
        "!apt-get install -y swig\n",
        "!pip install gymnasium[box2d]"
      ]
    },
    {
      "cell_type": "markdown",
      "metadata": {
        "id": "brqiMN3UW9T9"
      },
      "source": [
        "### Importing the libraries"
      ]
    },
    {
      "cell_type": "code",
      "execution_count": 2,
      "metadata": {
        "id": "mZaKXP_aMl9O"
      },
      "outputs": [],
      "source": [
        "import os\n",
        "import random\n",
        "import numpy as np\n",
        "import torch\n",
        "import torch.nn as nn\n",
        "import torch.optim as optim\n",
        "import torch.nn.functional as F\n",
        "import torch.autograd as autograd\n",
        "from torch.autograd import Variable\n",
        "from collections import deque, namedtuple"
      ]
    },
    {
      "cell_type": "markdown",
      "metadata": {
        "id": "EzlDKXvkXzGI"
      },
      "source": [
        "## Part 1 - Building the AI"
      ]
    },
    {
      "cell_type": "markdown",
      "metadata": {
        "id": "UtG6Zc83YYy3"
      },
      "source": [
        "### Creating the architecture of the Neural Network"
      ]
    },
    {
      "cell_type": "code",
      "source": [
        "class Network(nn.Module):\n",
        "\n",
        "  def __init__(self, state_size, action_size, seed = 42):\n",
        "    super(Network, self).__init__()\n",
        "    self.seed = torch.manual_seed(seed)\n",
        "    self.fc1 = nn.Linear(state_size, 64)\n",
        "    self.fc2 = nn.Linear(64, 64)\n",
        "    self.fc3 = nn.Linear(64, action_size)\n",
        "\n",
        "  def forward(self, state):\n",
        "    x = self.fc1(state)\n",
        "    x = F.relu(x)\n",
        "    x = self.fc2(x)\n",
        "    x = F.relu(x)\n",
        "    return self.fc3(x)"
      ],
      "metadata": {
        "id": "h9oUxasLEJx9"
      },
      "execution_count": 3,
      "outputs": []
    },
    {
      "cell_type": "markdown",
      "metadata": {
        "id": "UxVrBnFWZKb1"
      },
      "source": [
        "## Part 2 - Training the AI"
      ]
    },
    {
      "cell_type": "markdown",
      "metadata": {
        "id": "T364fz9qZb2j"
      },
      "source": [
        "### Setting up the environment"
      ]
    },
    {
      "cell_type": "code",
      "source": [
        "import gymnasium as gym\n",
        "env = gym.make('LunarLander-v2')\n",
        "state_shape = env.observation_space.shape\n",
        "state_size = env.observation_space.shape[0]\n",
        "number_actions = env.action_space.n\n",
        "print('State shape: ', state_shape)\n",
        "print('State size: ', state_size)\n",
        "print('Number of actions: ', number_actions)"
      ],
      "metadata": {
        "colab": {
          "base_uri": "https://localhost:8080/"
        },
        "id": "NUWiCFWySXIh",
        "outputId": "e05d681f-9a38-4f61-fd61-e1773965715e"
      },
      "execution_count": 4,
      "outputs": [
        {
          "output_type": "stream",
          "name": "stdout",
          "text": [
            "State shape:  (8,)\n",
            "State size:  8\n",
            "Number of actions:  4\n"
          ]
        }
      ]
    },
    {
      "cell_type": "markdown",
      "metadata": {
        "id": "c_dZmOIvZgj-"
      },
      "source": [
        "### Initializing the hyperparameters"
      ]
    },
    {
      "cell_type": "code",
      "source": [
        "learning_rate = 5e-4\n",
        "minibatch_size = 100\n",
        "discount_factor = 0.99\n",
        "replay_buffer_size = int(1e5)\n",
        "interpolation_parameter = 1e-3"
      ],
      "metadata": {
        "id": "bNKnUzj1Oqz8",
        "colab": {
          "base_uri": "https://localhost:8080/"
        },
        "outputId": "3a14283b-38bd-4029-d591-f7c11eff1f65"
      },
      "execution_count": 5,
      "outputs": [
        {
          "output_type": "stream",
          "name": "stderr",
          "text": [
            "/usr/local/lib/python3.10/dist-packages/ipykernel/ipkernel.py:283: DeprecationWarning: `should_run_async` will not call `transform_cell` automatically in the future. Please pass the result to `transformed_cell` argument and any exception that happen during thetransform in `preprocessing_exc_tuple` in IPython 7.17 and above.\n",
            "  and should_run_async(code)\n"
          ]
        }
      ]
    },
    {
      "cell_type": "markdown",
      "metadata": {
        "id": "8hD_Vs-bYnip"
      },
      "source": [
        "### Implementing Experience Replay"
      ]
    },
    {
      "cell_type": "code",
      "source": [
        "class ReplayMemory(object):\n",
        "\n",
        "  def __init__(self, capacity):\n",
        "    self.device = torch.device(\"cuda:0\" if torch.cuda.is_available() else \"cpu\")\n",
        "    self.capacity = capacity\n",
        "    self.memory = []\n",
        "\n",
        "  def push(self, event):\n",
        "    self.memory.append(event)\n",
        "    if len(self.memory) > self.capacity:\n",
        "      del self.memory[0]\n",
        "\n",
        "  def sample(self, batch_size):\n",
        "    experiences = random.sample(self.memory, k = batch_size)\n",
        "    states = torch.from_numpy(np.vstack([e[0] for e in experiences if e is not None])).float().to(self.device)\n",
        "    actions = torch.from_numpy(np.vstack([e[1] for e in experiences if e is not None])).long().to(self.device)\n",
        "    rewards = torch.from_numpy(np.vstack([e[2] for e in experiences if e is not None])).float().to(self.device)\n",
        "    next_states = torch.from_numpy(np.vstack([e[3] for e in experiences if e is not None])).float().to(self.device)\n",
        "    dones = torch.from_numpy(np.vstack([e[4] for e in experiences if e is not None]).astype(np.uint8)).float().to(self.device)\n",
        "    return states, next_states, actions, rewards, dones"
      ],
      "metadata": {
        "id": "QaEChoj_uRoe"
      },
      "execution_count": 6,
      "outputs": []
    },
    {
      "cell_type": "markdown",
      "metadata": {
        "id": "JmEkbFbUY6Jt"
      },
      "source": [
        "### Implementing the DQN class"
      ]
    },
    {
      "cell_type": "code",
      "source": [
        "class Agent():\n",
        "\n",
        "  def __init__(self, state_size, action_size):\n",
        "    self.device = torch.device(\"cuda:0\" if torch.cuda.is_available() else \"cpu\")\n",
        "    self.state_size = state_size\n",
        "    self.action_size = action_size\n",
        "    self.local_qnetwork = Network(state_size, action_size).to(self.device)\n",
        "    self.target_qnetwork = Network(state_size, action_size).to(self.device)\n",
        "    self.optimizer = optim.Adam(self.local_qnetwork.parameters(), lr = learning_rate)\n",
        "    self.memory = ReplayMemory(replay_buffer_size)\n",
        "    self.t_step = 0\n",
        "\n",
        "  def step(self, state, action, reward, next_state, done):\n",
        "    self.memory.push((state, action, reward, next_state, done))\n",
        "    self.t_step = (self.t_step + 1) % 4\n",
        "    if self.t_step == 0:\n",
        "      if len(self.memory.memory) > minibatch_size:\n",
        "        experiences = self.memory.sample(100)\n",
        "        self.learn(experiences, discount_factor)\n",
        "\n",
        "  def act(self, state, epsilon = 0.):\n",
        "    state = torch.from_numpy(state).float().unsqueeze(0).to(self.device)\n",
        "    self.local_qnetwork.eval()\n",
        "    with torch.no_grad():\n",
        "      action_values = self.local_qnetwork(state)\n",
        "    self.local_qnetwork.train()\n",
        "    if random.random() > epsilon:\n",
        "      return np.argmax(action_values.cpu().data.numpy())\n",
        "    else:\n",
        "      return random.choice(np.arange(self.action_size))\n",
        "\n",
        "  def learn(self, experiences, discount_factor):\n",
        "    states, next_states, actions, rewards, dones = experiences\n",
        "    next_q_targets = self.target_qnetwork(next_states).detach().max(1)[0].unsqueeze(1)\n",
        "    q_targets = rewards + discount_factor * next_q_targets * (1 - dones)\n",
        "    q_expected = self.local_qnetwork(states).gather(1, actions)\n",
        "    loss = F.mse_loss(q_expected, q_targets)\n",
        "    self.optimizer.zero_grad()\n",
        "    loss.backward()\n",
        "    self.optimizer.step()\n",
        "    self.soft_update(self.local_qnetwork, self.target_qnetwork, interpolation_parameter)\n",
        "\n",
        "  def soft_update(self, local_model, target_model, interpolation_parameter):\n",
        "    for target_param, local_param in zip(target_model.parameters(), local_model.parameters()):\n",
        "      target_param.data.copy_(interpolation_parameter * local_param.data + (1.0 - interpolation_parameter) * target_param.data)"
      ],
      "metadata": {
        "id": "iokmjTKJ9E3U"
      },
      "execution_count": 7,
      "outputs": []
    },
    {
      "cell_type": "markdown",
      "metadata": {
        "id": "o1tZElccZmf6"
      },
      "source": [
        "### Initializing the DQN agent"
      ]
    },
    {
      "cell_type": "code",
      "source": [
        "agent = Agent(state_size, number_actions)"
      ],
      "metadata": {
        "id": "cGbpJJvLjmIw"
      },
      "execution_count": 8,
      "outputs": []
    },
    {
      "cell_type": "markdown",
      "metadata": {
        "id": "E8v0PtUfaVQp"
      },
      "source": [
        "### Training the DQN agent"
      ]
    },
    {
      "cell_type": "code",
      "source": [
        "number_episodes = 2000\n",
        "maximum_number_timesteps_per_episode = 1000\n",
        "epsilon_starting_value  = 1.0\n",
        "epsilon_ending_value  = 0.01\n",
        "epsilon_decay_value  = 0.995\n",
        "epsilon = epsilon_starting_value\n",
        "scores_on_100_episodes = deque(maxlen = 100)\n",
        "\n",
        "for episode in range(1, number_episodes + 1):\n",
        "  state, _ = env.reset()\n",
        "  score = 0\n",
        "  for t in range(maximum_number_timesteps_per_episode):\n",
        "    action = agent.act(state, epsilon)\n",
        "    next_state, reward, done, _, _ = env.step(action)\n",
        "    agent.step(state, action, reward, next_state, done)\n",
        "    state = next_state\n",
        "    score += reward\n",
        "    if done:\n",
        "      break\n",
        "  scores_on_100_episodes.append(score)\n",
        "  epsilon = max(epsilon_ending_value, epsilon_decay_value * epsilon)\n",
        "  print('\\rEpisode {}\\tAverage Score: {:.2f}'.format(episode, np.mean(scores_on_100_episodes)), end = \"\")\n",
        "  if episode % 100 == 0:\n",
        "    print('\\rEpisode {}\\tAverage Score: {:.2f}'.format(episode, np.mean(scores_on_100_episodes)))\n",
        "  if np.mean(scores_on_100_episodes) >= 200.0:\n",
        "    print('\\nEnvironment solved in {:d} episodes!\\tAverage Score: {:.2f}'.format(episode - 100, np.mean(scores_on_100_episodes)))\n",
        "    torch.save(agent.local_qnetwork.state_dict(), 'checkpoint.pth')\n",
        "    break"
      ],
      "metadata": {
        "colab": {
          "base_uri": "https://localhost:8080/"
        },
        "id": "2ybZW6Im-Bwj",
        "outputId": "05f30bd2-9acd-46ef-b51f-6ffd895e0333"
      },
      "execution_count": 11,
      "outputs": [
        {
          "output_type": "stream",
          "name": "stdout",
          "text": [
            "Episode 100\tAverage Score: -112.45\n",
            "Episode 200\tAverage Score: -34.62\n",
            "Episode 300\tAverage Score: 88.80\n",
            "Episode 391\tAverage Score: 200.34\n",
            "Environment solved in 291 episodes!\tAverage Score: 200.34\n"
          ]
        }
      ]
    },
    {
      "cell_type": "markdown",
      "metadata": {
        "id": "O8CNwdOTcCoP"
      },
      "source": [
        "## Part 3 - Visualizing the results"
      ]
    },
    {
      "cell_type": "code",
      "execution_count": 15,
      "metadata": {
        "id": "cb9nVvU2Okhk",
        "colab": {
          "base_uri": "https://localhost:8080/",
          "height": 458
        },
        "outputId": "cc353b97-706f-4eec-9b16-dffdbbbcf741"
      },
      "outputs": [
        {
          "output_type": "stream",
          "name": "stderr",
          "text": [
            "WARNING:imageio_ffmpeg:IMAGEIO FFMPEG_WRITER WARNING: input image is not divisible by macro_block_size=16, resizing from (600, 400) to (608, 400) to ensure video compatibility with most codecs and players. To prevent resizing, make your input image divisible by the macro_block_size or set the macro_block_size to 1 (risking incompatibility).\n"
          ]
        },
        {
          "output_type": "display_data",
          "data": {
            "text/plain": [
              "<IPython.core.display.HTML object>"
            ],
            "text/html": [
              "<video alt=\"test\" autoplay\n",
              "                loop controls style=\"height: 400px;\">\n",
              "                <source src=\"data:video/mp4;base64,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\" type=\"video/mp4\" />\n",
              "             </video>"
            ]
          },
          "metadata": {}
        }
      ],
      "source": [
        "import glob\n",
        "import io\n",
        "import base64\n",
        "import imageio\n",
        "from IPython.display import HTML, display\n",
        "from gym.wrappers.monitoring.video_recorder import VideoRecorder\n",
        "\n",
        "def show_video_of_model(agent, env_name):\n",
        "    env = gym.make(env_name, render_mode='rgb_array')\n",
        "    state, _ = env.reset()\n",
        "    done = False\n",
        "    frames = []\n",
        "    while not done:\n",
        "        frame = env.render()\n",
        "        frames.append(frame)\n",
        "        action = agent.act(state)\n",
        "        state, reward, done, _, _ = env.step(action.item())\n",
        "    env.close()\n",
        "    imageio.mimsave('video.mp4', frames, fps=30)\n",
        "\n",
        "show_video_of_model(agent, 'LunarLander-v2')\n",
        "\n",
        "def show_video():\n",
        "    mp4list = glob.glob('*.mp4')\n",
        "    if len(mp4list) > 0:\n",
        "        mp4 = mp4list[0]\n",
        "        video = io.open(mp4, 'r+b').read()\n",
        "        encoded = base64.b64encode(video)\n",
        "        display(HTML(data='''<video alt=\"test\" autoplay\n",
        "                loop controls style=\"height: 400px;\">\n",
        "                <source src=\"data:video/mp4;base64,{0}\" type=\"video/mp4\" />\n",
        "             </video>'''.format(encoded.decode('ascii'))))\n",
        "    else:\n",
        "        print(\"Could not find video\")\n",
        "\n",
        "show_video()"
      ]
    }
  ],
  "metadata": {
    "colab": {
      "provenance": [],
      "include_colab_link": true
    },
    "kernelspec": {
      "display_name": "Python 3",
      "name": "python3"
    },
    "language_info": {
      "name": "python"
    }
  },
  "nbformat": 4,
  "nbformat_minor": 0
}